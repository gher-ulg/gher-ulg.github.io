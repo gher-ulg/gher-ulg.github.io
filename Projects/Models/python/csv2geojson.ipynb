{
 "cells": [
  {
   "cell_type": "code",
   "execution_count": 8,
   "metadata": {},
   "outputs": [],
   "source": [
    "import json\n",
    "import geojson\n",
    "import csv\n",
    "import os\n",
    "from geojson import Feature, Point"
   ]
  },
  {
   "cell_type": "code",
   "execution_count": 2,
   "metadata": {},
   "outputs": [],
   "source": [
    "datafile = \"./models.csv\""
   ]
  },
  {
   "cell_type": "code",
   "execution_count": 28,
   "metadata": {},
   "outputs": [],
   "source": [
    "with open(\"test.js\", \"w\") as fp:\n",
    "\n",
    "    with open(datafile, \"r\") as df:\n",
    "        df.readline()\n",
    "        for lines in df:\n",
    "            linesplit = lines.rstrip().split(\"\\t\")\n",
    "            if len(linesplit) == 5:\n",
    "                modelname = linesplit[0]\n",
    "                lonmin = float(linesplit[3])\n",
    "                lonmax = float(linesplit[4])\n",
    "                latmin = float(linesplit[1])\n",
    "                latmax = float(linesplit[2])\n",
    "\n",
    "                # Create polygon\n",
    "                p = geojson.Polygon([[(lonmin, latmin), (lonmax, latmin), \n",
    "                                      (lonmax, latmax), (lonmin, latmax), \n",
    "                                      (lonmin, latmin)]])\n",
    "                f = Feature(geometry=p, properties={\"name\": modelname})\n",
    "\n",
    "                geojson.dump(f, fp)\n",
    "                fp.write(\",\\n\")"
   ]
  }
 ],
 "metadata": {
  "kernelspec": {
   "display_name": "Diva-python3.6",
   "language": "python",
   "name": "diva-python3.6"
  },
  "language_info": {
   "codemirror_mode": {
    "name": "ipython",
    "version": 3
   },
   "file_extension": ".py",
   "mimetype": "text/x-python",
   "name": "python",
   "nbconvert_exporter": "python",
   "pygments_lexer": "ipython3",
   "version": "3.6.0"
  }
 },
 "nbformat": 4,
 "nbformat_minor": 2
}
